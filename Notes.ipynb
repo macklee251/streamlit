{
 "cells": [
  {
   "cell_type": "code",
   "execution_count": null,
   "metadata": {},
   "outputs": [],
   "source": [
    "import streamlit as st\n",
    "import pandas as pd\n",
    "\n",
    "st.set_page_config(\n",
    "    layout='wide',\n",
    "    page_title='Spotify',\n",
    ")\n",
    "\n",
    "df = pd.read_csv(\"/Users/macklee/Desktop/Computer science/Studies/Python/streamlit/spotify/01 Spotify.csv\")\n",
    "df.set_index(\"Track\", inplace=True)\n",
    "\n",
    "artists = df[\"Artist\"].value_counts().index\n",
    "artist = st.selectbox(\"Artista\", artists)\n",
    "df_filtered1 = df[df[\"Artist\"] == artist]\n",
    "\n",
    "\n",
    "albums = df_filtered1[\"Album\"].value_counts().index\n",
    "album = st.selectbox(\"Album\", albums)\n",
    "df_filtered2 = df[df[\"Album\"] == album]\n",
    "\n",
    "display = st.checkbox('Display')\n",
    "if display:\n",
    "    st.bar_chart(df_filtered2[\"Stream\"])\n",
    "\n"
   ]
  },
  {
   "cell_type": "code",
   "execution_count": null,
   "metadata": {},
   "outputs": [],
   "source": [
    "import streamlit as st\n",
    "import pandas as pd\n",
    "\n",
    "st.set_page_config(\n",
    "    layout='wide',\n",
    "    page_title='Spotify',\n",
    ")\n",
    "\n",
    "df = pd.read_csv(\"/Users/macklee/Desktop/Computer science/Studies/Python/streamlit/spotify/01 Spotify.csv\")\n",
    "df.set_index(\"Track\", inplace=True)\n",
    "\n",
    "artists = df[\"Artist\"].value_counts().index\n",
    "artist = st.sidebar.selectbox(\"Artista\", artists)\n",
    "df_filtered1 = df[df[\"Artist\"] == artist]\n",
    "\n",
    "\n",
    "albums = df_filtered1[\"Album\"].value_counts().index\n",
    "album = st.sidebar.selectbox(\"Album\", albums)\n",
    "df_filtered2 = df[df[\"Album\"] == album]\n",
    "\n",
    "\n",
    "col1, col2 = st.columns([.5, .5])\n",
    "\n",
    "col1.bar_chart(df_filtered2[\"Stream\"])\n",
    "col2.line_chart(df_filtered2[\"Danceability\"])"
   ]
  }
 ],
 "metadata": {
  "language_info": {
   "name": "python"
  }
 },
 "nbformat": 4,
 "nbformat_minor": 2
}
